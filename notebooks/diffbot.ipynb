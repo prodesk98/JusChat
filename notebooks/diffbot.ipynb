{
 "cells": [
  {
   "cell_type": "code",
   "id": "initial_id",
   "metadata": {
    "collapsed": true,
    "ExecuteTime": {
     "end_time": "2025-07-04T20:34:35.443523Z",
     "start_time": "2025-07-04T20:34:34.776123Z"
    }
   },
   "source": [
    "from langchain_experimental.graph_transformers.diffbot import DiffbotGraphTransformer\n",
    "from dotenv import load_dotenv\n",
    "import os\n",
    "# Load environment variables from .env file\n",
    "load_dotenv()"
   ],
   "outputs": [
    {
     "data": {
      "text/plain": [
       "True"
      ]
     },
     "execution_count": 1,
     "metadata": {},
     "output_type": "execute_result"
    }
   ],
   "execution_count": 1
  },
  {
   "metadata": {
    "ExecuteTime": {
     "end_time": "2025-07-04T20:34:35.689182Z",
     "start_time": "2025-07-04T20:34:35.684763Z"
    }
   },
   "cell_type": "code",
   "source": "diffbot_nlp = DiffbotGraphTransformer(diffbot_api_key=os.getenv(\"DIFFBOT_API_KEY\"))",
   "id": "8c6015086b09b404",
   "outputs": [],
   "execution_count": 2
  },
  {
   "metadata": {
    "ExecuteTime": {
     "end_time": "2025-07-04T20:36:25.605652Z",
     "start_time": "2025-07-04T20:34:35.703625Z"
    }
   },
   "cell_type": "code",
   "source": [
    "from langchain_community.document_loaders import WikipediaLoader\n",
    "\n",
    "query = \"Warren Buffett\"\n",
    "raw_documents = WikipediaLoader(query=query).load()\n",
    "graph_documents = diffbot_nlp.convert_to_graph_documents(raw_documents)"
   ],
   "id": "438f47766b93fd00",
   "outputs": [],
   "execution_count": 3
  },
  {
   "metadata": {
    "ExecuteTime": {
     "end_time": "2025-07-04T20:36:25.644901Z",
     "start_time": "2025-07-04T20:36:25.637419Z"
    }
   },
   "cell_type": "code",
   "source": "graph_documents[0]",
   "id": "710de8021fc87f88",
   "outputs": [
    {
     "data": {
      "text/plain": [
       "GraphDocument(nodes=[Node(id='http://www.wikidata.org/entity/Q47213', type='Person', properties={'name': 'Warren Buffett', 'positionHeld': 'CEO', 'age': '7', 'dateOfBirth': '1930-08-30'}), Node(id='http://www.wikidata.org/entity/Q43199', type='Location', properties={'name': 'Omaha'}), Node(id='http://www.wikidata.org/entity/Q723488', type='Person', properties={'name': 'Howard Homan Buffett', 'positionHeld': 'businessman'}), Node(id='http://www.wikidata.org/entity/Q451695', type='Person', properties={'name': 'Lesley Stahl'}), Node(id='Buffett Partnership Ltd.', type='Organization', properties={'name': 'Buffett Partnership Ltd.', 'foundingDate': '1956'}), Node(id='Leila', type='Person', properties={'name': 'Leila', 'numberOfChildren': '3'}), Node(id='http://www.wikidata.org/entity/Q907481', type='Organization', properties={'name': 'Columbia Business School'}), Node(id='http://www.wikidata.org/entity/Q203807', type='Organization', properties={'name': 'The Giving Pledge', 'foundingDate': '2010'}), Node(id='http://www.wikidata.org/entity/Q217583', type='Organization', properties={'name': 'Berkshire Hathaway'}), Node(id='http://www.wikidata.org/entity/Q1505660', type='Skill', properties={'name': 'textile manufacturing'}), Node(id='University of Pennsylvania', type='Organization', properties={'name': 'University of Pennsylvania'}), Node(id='http://www.wikidata.org/entity/Q30', type='Location', properties={'name': 'United States'}), Node(id='http://www.wikidata.org/entity/Q16254414', type='Organization', properties={'name': 'New York Institute of Finance'}), Node(id='http://www.wikidata.org/entity/Q1353679', type='Organization', properties={'name': 'University of Nebraska-Lincoln'}), Node(id='http://www.wikidata.org/entity/Q8134', type='Skill', properties={'name': 'economics'}), Node(id='http://www.wikidata.org/entity/Q8033204', type='Organization', properties={'name': 'Jackson-Reed High School'}), Node(id='http://www.wikidata.org/entity/Q918630', type='Person', properties={'name': 'Charlie Munger', 'positionHeld': 'investor'}), Node(id='Alice Deal Junior High School', type='Organization', properties={'name': 'Alice Deal Junior High School'}), Node(id='Warren', type='Person', properties={'name': 'Warren'}), Node(id='http://www.wikidata.org/entity/Q61', type='Location', properties={'name': 'Washington, D.C.'}), Node(id='http://www.wikidata.org/entity/Q1553', type='Location', properties={'name': 'Nebraska'}), Node(id='http://www.wikidata.org/entity/Q290560', type='Person', properties={'name': 'Benjamin Graham'}), Node(id='http://www.wikidata.org/entity/Q5284', type='Person', properties={'name': 'Bill Gates'})], relationships=[Relationship(source=Node(id='http://www.wikidata.org/entity/Q47213', type='Person', properties={}), target=Node(id='http://www.wikidata.org/entity/Q43199', type='Location', properties={}), type='PLACE_OF_BIRTH', properties={'evidence': 'Buffett was born on August 30, 1930, in Omaha, Nebraska, as the second of three children and the only son of Leila (née Stahl) and Congressman Howard Buffett.'}), Relationship(source=Node(id='http://www.wikidata.org/entity/Q47213', type='Person', properties={}), target=Node(id='http://www.wikidata.org/entity/Q43199', type='Location', properties={}), type='PERSON_LOCATION', properties={'evidence': 'Buffett was born in Omaha, Nebraska.'}), Relationship(source=Node(id='http://www.wikidata.org/entity/Q723488', type='Person', properties={}), target=Node(id='http://www.wikidata.org/entity/Q451695', type='Person', properties={}), type='FAMILY_MEMBER', properties={'evidence': 'Buffett was born on August 30, 1930, in Omaha, Nebraska, as the second of three children and the only son of Leila (née Stahl) and Congressman Howard Buffett.'}), Relationship(source=Node(id='http://www.wikidata.org/entity/Q723488', type='Person', properties={}), target=Node(id='http://www.wikidata.org/entity/Q451695', type='Person', properties={}), type='SOCIAL_RELATIONSHIP', properties={'evidence': 'Buffett was born on August 30, 1930, in Omaha, Nebraska, as the second of three children and the only son of Leila (née Stahl) and Congressman Howard Buffett.'}), Relationship(source=Node(id='http://www.wikidata.org/entity/Q723488', type='Person', properties={}), target=Node(id='Leila', type='Person', properties={}), type='SOCIAL_RELATIONSHIP', properties={'evidence': 'Buffett was born on August 30, 1930, in Omaha, Nebraska, as the second of three children and the only son of Leila (née Stahl) and Congressman Howard Buffett.'}), Relationship(source=Node(id='http://www.wikidata.org/entity/Q723488', type='Person', properties={}), target=Node(id='Leila', type='Person', properties={}), type='FAMILY_MEMBER', properties={'evidence': 'Buffett was born on August 30, 1930, in Omaha, Nebraska, as the second of three children and the only son of Leila (née Stahl) and Congressman Howard Buffett.'}), Relationship(source=Node(id='http://www.wikidata.org/entity/Q723488', type='Person', properties={}), target=Node(id='http://www.wikidata.org/entity/Q907481', type='Organization', properties={}), type='EDUCATED_AT', properties={'evidence': 'He went on to graduate from Columbia Business School, where he molded his investment philosophy around the concept of value investing pioneered by Benjamin Graham.', 'isNotCurrent': 'true'}), Relationship(source=Node(id='http://www.wikidata.org/entity/Q47213', type='Person', properties={}), target=Node(id='Buffett Partnership Ltd.', type='Organization', properties={}), type='EMPLOYEE_OR_MEMBER_OF', properties={'evidence': 'He created Buffett Partnership Ltd. in 1956 and his investment firm eventually acquired a textile manufacturing firm, Berkshire Hathaway, assuming its name to create a diversified holding company.', 'isNotCurrent': 'true', 'startTime': '1956'}), Relationship(source=Node(id='http://www.wikidata.org/entity/Q217583', type='Organization', properties={}), target=Node(id='http://www.wikidata.org/entity/Q1505660', type='Skill', properties={}), type='INDUSTRY', properties={'evidence': 'He created Buffett Partnership Ltd. in 1956 and his investment firm eventually acquired a textile manufacturing firm, Berkshire Hathaway, assuming its name to create a diversified holding company.'}), Relationship(source=Node(id='http://www.wikidata.org/entity/Q203807', type='Organization', properties={}), target=Node(id='http://www.wikidata.org/entity/Q47213', type='Person', properties={}), type='FOUNDED_BY', properties={'evidence': 'He founded the Giving Pledge in 2010 with Bill Gates, whereby billionaires pledge to give away at least half of their fortunes.'}), Relationship(source=Node(id='http://www.wikidata.org/entity/Q47213', type='Person', properties={}), target=Node(id='University of Pennsylvania', type='Organization', properties={}), type='EDUCATED_AT', properties={'evidence': 'He entered the Wharton School of the University of Pennsylvania in 1947 before graduating from the University of Nebraska in Lincoln at 20.', 'isNotCurrent': 'true', 'endTime': '1947'}), Relationship(source=Node(id='Leila', type='Person', properties={}), target=Node(id='http://www.wikidata.org/entity/Q723488', type='Person', properties={}), type='SOCIAL_RELATIONSHIP', properties={'evidence': 'Buffett was born on August 30, 1930, in Omaha, Nebraska, as the second of three children and the only son of Leila (née Stahl) and Congressman Howard Buffett.'}), Relationship(source=Node(id='Leila', type='Person', properties={}), target=Node(id='http://www.wikidata.org/entity/Q723488', type='Person', properties={}), type='FAMILY_MEMBER', properties={'evidence': 'Buffett was born on August 30, 1930, in Omaha, Nebraska, as the second of three children and the only son of Leila (née Stahl) and Congressman Howard Buffett.'}), Relationship(source=Node(id='http://www.wikidata.org/entity/Q723488', type='Person', properties={}), target=Node(id='http://www.wikidata.org/entity/Q30', type='Location', properties={}), type='PERSON_LOCATION', properties={'evidence': 'The son of U.S. congressman and businessman Howard Buffett, he developed an interest in business and investing during his youth.'}), Relationship(source=Node(id='http://www.wikidata.org/entity/Q47213', type='Person', properties={}), target=Node(id='http://www.wikidata.org/entity/Q16254414', type='Organization', properties={}), type='EDUCATED_AT', properties={'evidence': 'He attended New York Institute of Finance to focus on his economics background and soon pursued a business career.', 'isNotCurrent': 'true'}), Relationship(source=Node(id='http://www.wikidata.org/entity/Q47213', type='Person', properties={}), target=Node(id='http://www.wikidata.org/entity/Q1353679', type='Organization', properties={}), type='EDUCATED_AT', properties={'evidence': 'He entered the Wharton School of the University of Pennsylvania in 1947 before graduating from the University of Nebraska in Lincoln at 20.', 'isNotCurrent': 'true'}), Relationship(source=Node(id='http://www.wikidata.org/entity/Q47213', type='Person', properties={}), target=Node(id='http://www.wikidata.org/entity/Q8134', type='Skill', properties={}), type='INTERESTED_IN', properties={'evidence': 'He attended New York Institute of Finance to focus on his economics background and soon pursued a business career.'}), Relationship(source=Node(id='http://www.wikidata.org/entity/Q47213', type='Person', properties={}), target=Node(id='http://www.wikidata.org/entity/Q8134', type='Skill', properties={}), type='INTERESTED_IN', properties={'evidence': 'He attended New York Institute of Finance to focus on his economics background and soon pursued a business career.'}), Relationship(source=Node(id='http://www.wikidata.org/entity/Q47213', type='Person', properties={}), target=Node(id='http://www.wikidata.org/entity/Q8134', type='Skill', properties={}), type='FIELD_OF_WORK', properties={'evidence': 'He attended New York Institute of Finance to focus on his economics background and soon pursued a business career.'}), Relationship(source=Node(id='http://www.wikidata.org/entity/Q723488', type='Person', properties={}), target=Node(id='http://www.wikidata.org/entity/Q8033204', type='Organization', properties={}), type='EDUCATED_AT', properties={'evidence': 'In 1942, his father was elected to the first of four terms in the United States Congress, and after moving with his family to Washington, D.C., Warren finished elementary school, attended Alice Deal Junior High School and graduated from what was then Woodrow Wilson High School in 1947, where his senior yearbook picture reads: \"likes math; a future stockbroker\".', 'isNotCurrent': 'true', 'endTime': '1947'}), Relationship(source=Node(id='http://www.wikidata.org/entity/Q723488', type='Person', properties={}), target=Node(id='Alice Deal Junior High School', type='Organization', properties={}), type='EDUCATED_AT', properties={'evidence': 'In 1942, his father was elected to the first of four terms in the United States Congress, and after moving with his family to Washington, D.C., Warren finished elementary school, attended Alice Deal Junior High School and graduated from what was then Woodrow Wilson High School in 1947, where his senior yearbook picture reads: \"likes math; a future stockbroker\".', 'isNotCurrent': 'true'}), Relationship(source=Node(id='http://www.wikidata.org/entity/Q451695', type='Person', properties={}), target=Node(id='http://www.wikidata.org/entity/Q723488', type='Person', properties={}), type='SOCIAL_RELATIONSHIP', properties={'evidence': 'Buffett was born on August 30, 1930, in Omaha, Nebraska, as the second of three children and the only son of Leila (née Stahl) and Congressman Howard Buffett.'}), Relationship(source=Node(id='http://www.wikidata.org/entity/Q451695', type='Person', properties={}), target=Node(id='http://www.wikidata.org/entity/Q723488', type='Person', properties={}), type='FAMILY_MEMBER', properties={'evidence': 'Buffett was born on August 30, 1930, in Omaha, Nebraska, as the second of three children and the only son of Leila (née Stahl) and Congressman Howard Buffett.'}), Relationship(source=Node(id='http://www.wikidata.org/entity/Q47213', type='Person', properties={}), target=Node(id='http://www.wikidata.org/entity/Q203807', type='Organization', properties={}), type='EMPLOYEE_OR_MEMBER_OF', properties={'evidence': 'He founded the Giving Pledge in 2010 with Bill Gates, whereby billionaires pledge to give away at least half of their fortunes.'}), Relationship(source=Node(id='http://www.wikidata.org/entity/Q47213', type='Person', properties={}), target=Node(id='http://www.wikidata.org/entity/Q30', type='Location', properties={}), type='NATIONALITY', properties={'evidence': 'Warren Edward Buffett ( BUF-it; born August 30, 1930) is an American investor and philanthropist who currently serves as the chairman and CEO of the conglomerate holding company Berkshire Hathaway.'}), Relationship(source=Node(id='http://www.wikidata.org/entity/Q47213', type='Person', properties={}), target=Node(id='http://www.wikidata.org/entity/Q30', type='Location', properties={}), type='PERSON_LOCATION', properties={'evidence': 'Warren Edward Buffett ( BUF-it; born August 30, 1930) is an American investor and philanthropist who currently serves as the chairman and CEO of the conglomerate holding company Berkshire Hathaway.'}), Relationship(source=Node(id='http://www.wikidata.org/entity/Q723488', type='Person', properties={}), target=Node(id='http://www.wikidata.org/entity/Q47213', type='Person', properties={}), type='FAMILY_MEMBER', properties={'evidence': 'Buffett was born on August 30, 1930, in Omaha, Nebraska, as the second of three children and the only son of Leila (née Stahl) and Congressman Howard Buffett.'}), Relationship(source=Node(id='http://www.wikidata.org/entity/Q723488', type='Person', properties={}), target=Node(id='http://www.wikidata.org/entity/Q47213', type='Person', properties={}), type='SOCIAL_RELATIONSHIP', properties={'evidence': 'Buffett was born on August 30, 1930, in Omaha, Nebraska, as the second of three children and the only son of Leila (née Stahl) and Congressman Howard Buffett.'}), Relationship(source=Node(id='http://www.wikidata.org/entity/Q723488', type='Person', properties={}), target=Node(id='http://www.wikidata.org/entity/Q47213', type='Person', properties={}), type='HAS_CHILD', properties={'evidence': 'Buffett was born on August 30, 1930, in Omaha, Nebraska, as the second of three children and the only son of Leila (née Stahl) and Congressman Howard Buffett.'}), Relationship(source=Node(id='Warren', type='Person', properties={}), target=Node(id='http://www.wikidata.org/entity/Q61', type='Location', properties={}), type='PERSON_LOCATION', properties={'evidence': 'In 1942, his father was elected to the first of four terms in the United States Congress, and after moving with his family to Washington, D.C., Warren finished elementary school, attended Alice Deal Junior High School and graduated from what was then Woodrow Wilson High School in 1947, where his senior yearbook picture reads: \"likes math; a future stockbroker\".'}), Relationship(source=Node(id='Warren', type='Person', properties={}), target=Node(id='http://www.wikidata.org/entity/Q61', type='Location', properties={}), type='PERSON_LOCATION', properties={'evidence': 'In 1942, his father was elected to the first of four terms in the United States Congress, and after moving with his family to Washington, D.C., Warren finished elementary school, attended Alice Deal Junior High School and graduated from what was then Woodrow Wilson High School in 1947, where his senior yearbook picture reads: \"likes math; a future stockbroker\".'}), Relationship(source=Node(id='http://www.wikidata.org/entity/Q47213', type='Person', properties={}), target=Node(id='http://www.wikidata.org/entity/Q8033204', type='Organization', properties={}), type='EDUCATED_AT', properties={'evidence': 'In 1942, his father was elected to the first of four terms in the United States Congress, and after moving with his family to Washington, D.C., Warren finished elementary school, attended Alice Deal Junior High School and graduated from what was then Woodrow Wilson High School in 1947, where his senior yearbook picture reads: \"likes math; a future stockbroker\".', 'isNotCurrent': 'true', 'endTime': '1947'}), Relationship(source=Node(id='http://www.wikidata.org/entity/Q47213', type='Person', properties={}), target=Node(id='http://www.wikidata.org/entity/Q1553', type='Location', properties={}), type='PLACE_OF_BIRTH', properties={'evidence': 'Buffett was born in Omaha, Nebraska.'}), Relationship(source=Node(id='http://www.wikidata.org/entity/Q47213', type='Person', properties={}), target=Node(id='http://www.wikidata.org/entity/Q1553', type='Location', properties={}), type='PERSON_LOCATION', properties={'evidence': 'Buffett was born on August 30, 1930, in Omaha, Nebraska, as the second of three children and the only son of Leila (née Stahl) and Congressman Howard Buffett.'}), Relationship(source=Node(id='http://www.wikidata.org/entity/Q47213', type='Person', properties={}), target=Node(id='Alice Deal Junior High School', type='Organization', properties={}), type='EDUCATED_AT', properties={'evidence': 'In 1942, his father was elected to the first of four terms in the United States Congress, and after moving with his family to Washington, D.C., Warren finished elementary school, attended Alice Deal Junior High School and graduated from what was then Woodrow Wilson High School in 1947, where his senior yearbook picture reads: \"likes math; a future stockbroker\".', 'isNotCurrent': 'true'}), Relationship(source=Node(id='http://www.wikidata.org/entity/Q723488', type='Person', properties={}), target=Node(id='http://www.wikidata.org/entity/Q61', type='Location', properties={}), type='PERSON_LOCATION', properties={'evidence': 'In 1942, his father was elected to the first of four terms in the United States Congress, and after moving with his family to Washington, D.C., Warren finished elementary school, attended Alice Deal Junior High School and graduated from what was then Woodrow Wilson High School in 1947, where his senior yearbook picture reads: \"likes math; a future stockbroker\".'}), Relationship(source=Node(id='http://www.wikidata.org/entity/Q723488', type='Person', properties={}), target=Node(id='http://www.wikidata.org/entity/Q61', type='Location', properties={}), type='PERSON_LOCATION', properties={'evidence': 'In 1942, his father was elected to the first of four terms in the United States Congress, and after moving with his family to Washington, D.C., Warren finished elementary school, attended Alice Deal Junior High School and graduated from what was then Woodrow Wilson High School in 1947, where his senior yearbook picture reads: \"likes math; a future stockbroker\".'}), Relationship(source=Node(id='http://www.wikidata.org/entity/Q47213', type='Person', properties={}), target=Node(id='http://www.wikidata.org/entity/Q907481', type='Organization', properties={}), type='EDUCATED_AT', properties={'evidence': 'He went on to graduate from Columbia Business School, where he molded his investment philosophy around the concept of value investing pioneered by Benjamin Graham.', 'isNotCurrent': 'true'}), Relationship(source=Node(id='Leila', type='Person', properties={}), target=Node(id='http://www.wikidata.org/entity/Q47213', type='Person', properties={}), type='HAS_CHILD', properties={'evidence': 'Buffett was born on August 30, 1930, in Omaha, Nebraska, as the second of three children and the only son of Leila (née Stahl) and Congressman Howard Buffett.'}), Relationship(source=Node(id='Leila', type='Person', properties={}), target=Node(id='http://www.wikidata.org/entity/Q47213', type='Person', properties={}), type='FAMILY_MEMBER', properties={'evidence': 'Buffett was born on August 30, 1930, in Omaha, Nebraska, as the second of three children and the only son of Leila (née Stahl) and Congressman Howard Buffett.'}), Relationship(source=Node(id='Leila', type='Person', properties={}), target=Node(id='http://www.wikidata.org/entity/Q47213', type='Person', properties={}), type='SOCIAL_RELATIONSHIP', properties={'evidence': 'Buffett was born on August 30, 1930, in Omaha, Nebraska, as the second of three children and the only son of Leila (née Stahl) and Congressman Howard Buffett.'}), Relationship(source=Node(id='http://www.wikidata.org/entity/Q47213', type='Person', properties={}), target=Node(id='http://www.wikidata.org/entity/Q723488', type='Person', properties={}), type='FAMILY_MEMBER', properties={'evidence': 'Buffett was born on August 30, 1930, in Omaha, Nebraska, as the second of three children and the only son of Leila (née Stahl) and Congressman Howard Buffett.'}), Relationship(source=Node(id='http://www.wikidata.org/entity/Q47213', type='Person', properties={}), target=Node(id='http://www.wikidata.org/entity/Q723488', type='Person', properties={}), type='SOCIAL_RELATIONSHIP', properties={'evidence': 'Buffett was born on August 30, 1930, in Omaha, Nebraska, as the second of three children and the only son of Leila (née Stahl) and Congressman Howard Buffett.'}), Relationship(source=Node(id='http://www.wikidata.org/entity/Q47213', type='Person', properties={}), target=Node(id='http://www.wikidata.org/entity/Q723488', type='Person', properties={}), type='HAS_PARENT', properties={'evidence': 'Buffett was born on August 30, 1930, in Omaha, Nebraska, as the second of three children and the only son of Leila (née Stahl) and Congressman Howard Buffett.'}), Relationship(source=Node(id='http://www.wikidata.org/entity/Q290560', type='Person', properties={}), target=Node(id='http://www.wikidata.org/entity/Q47213', type='Person', properties={}), type='WORK_RELATIONSHIP', properties={'evidence': 'He later began various business ventures and investment partnerships, including one with Graham.'}), Relationship(source=Node(id='http://www.wikidata.org/entity/Q47213', type='Person', properties={}), target=Node(id='http://www.wikidata.org/entity/Q451695', type='Person', properties={}), type='FAMILY_MEMBER', properties={'evidence': 'Buffett was born on August 30, 1930, in Omaha, Nebraska, as the second of three children and the only son of Leila (née Stahl) and Congressman Howard Buffett.'}), Relationship(source=Node(id='http://www.wikidata.org/entity/Q47213', type='Person', properties={}), target=Node(id='http://www.wikidata.org/entity/Q451695', type='Person', properties={}), type='SOCIAL_RELATIONSHIP', properties={'evidence': 'Buffett was born on August 30, 1930, in Omaha, Nebraska, as the second of three children and the only son of Leila (née Stahl) and Congressman Howard Buffett.'}), Relationship(source=Node(id='http://www.wikidata.org/entity/Q47213', type='Person', properties={}), target=Node(id='http://www.wikidata.org/entity/Q451695', type='Person', properties={}), type='HAS_PARENT', properties={'evidence': 'Buffett was born on August 30, 1930, in Omaha, Nebraska, as the second of three children and the only son of Leila (née Stahl) and Congressman Howard Buffett.'}), Relationship(source=Node(id='http://www.wikidata.org/entity/Q8033204', type='Organization', properties={}), target=Node(id='http://www.wikidata.org/entity/Q61', type='Location', properties={}), type='ORGANIZATION_LOCATIONS', properties={'evidence': 'In 1942, his father was elected to the first of four terms in the United States Congress, and after moving with his family to Washington, D.C., Warren finished elementary school, attended Alice Deal Junior High School and graduated from what was then Woodrow Wilson High School in 1947, where his senior yearbook picture reads: \"likes math; a future stockbroker\".', 'isCurrent': 'true'}), Relationship(source=Node(id='Warren', type='Person', properties={}), target=Node(id='http://www.wikidata.org/entity/Q8033204', type='Organization', properties={}), type='EDUCATED_AT', properties={'evidence': 'In 1942, his father was elected to the first of four terms in the United States Congress, and after moving with his family to Washington, D.C., Warren finished elementary school, attended Alice Deal Junior High School and graduated from what was then Woodrow Wilson High School in 1947, where his senior yearbook picture reads: \"likes math; a future stockbroker\".', 'isNotCurrent': 'true', 'endTime': '1947'}), Relationship(source=Node(id='http://www.wikidata.org/entity/Q203807', type='Organization', properties={}), target=Node(id='http://www.wikidata.org/entity/Q5284', type='Person', properties={}), type='FOUNDED_BY', properties={'evidence': 'He founded the Giving Pledge in 2010 with Bill Gates, whereby billionaires pledge to give away at least half of their fortunes.'}), Relationship(source=Node(id='Warren', type='Person', properties={}), target=Node(id='Alice Deal Junior High School', type='Organization', properties={}), type='EDUCATED_AT', properties={'evidence': 'In 1942, his father was elected to the first of four terms in the United States Congress, and after moving with his family to Washington, D.C., Warren finished elementary school, attended Alice Deal Junior High School and graduated from what was then Woodrow Wilson High School in 1947, where his senior yearbook picture reads: \"likes math; a future stockbroker\".', 'isNotCurrent': 'true'}), Relationship(source=Node(id='http://www.wikidata.org/entity/Q47213', type='Person', properties={}), target=Node(id='http://www.wikidata.org/entity/Q290560', type='Person', properties={}), type='WORK_RELATIONSHIP', properties={'evidence': 'He later began various business ventures and investment partnerships, including one with Graham.'}), Relationship(source=Node(id='http://www.wikidata.org/entity/Q451695', type='Person', properties={}), target=Node(id='http://www.wikidata.org/entity/Q47213', type='Person', properties={}), type='FAMILY_MEMBER', properties={'evidence': 'Buffett was born on August 30, 1930, in Omaha, Nebraska, as the second of three children and the only son of Leila (née Stahl) and Congressman Howard Buffett.'}), Relationship(source=Node(id='http://www.wikidata.org/entity/Q451695', type='Person', properties={}), target=Node(id='http://www.wikidata.org/entity/Q47213', type='Person', properties={}), type='SOCIAL_RELATIONSHIP', properties={'evidence': 'Buffett was born on August 30, 1930, in Omaha, Nebraska, as the second of three children and the only son of Leila (née Stahl) and Congressman Howard Buffett.'}), Relationship(source=Node(id='http://www.wikidata.org/entity/Q451695', type='Person', properties={}), target=Node(id='http://www.wikidata.org/entity/Q47213', type='Person', properties={}), type='HAS_CHILD', properties={'evidence': 'Buffett was born on August 30, 1930, in Omaha, Nebraska, as the second of three children and the only son of Leila (née Stahl) and Congressman Howard Buffett.'}), Relationship(source=Node(id='Alice Deal Junior High School', type='Organization', properties={}), target=Node(id='http://www.wikidata.org/entity/Q61', type='Location', properties={}), type='ORGANIZATION_LOCATIONS', properties={'evidence': 'In 1942, his father was elected to the first of four terms in the United States Congress, and after moving with his family to Washington, D.C., Warren finished elementary school, attended Alice Deal Junior High School and graduated from what was then Woodrow Wilson High School in 1947, where his senior yearbook picture reads: \"likes math; a future stockbroker\".'}), Relationship(source=Node(id='http://www.wikidata.org/entity/Q47213', type='Person', properties={}), target=Node(id='http://www.wikidata.org/entity/Q217583', type='Organization', properties={}), type='EMPLOYEE_OR_MEMBER_OF', properties={'evidence': 'Warren Edward Buffett ( BUF-it; born August 30, 1930) is an American investor and philanthropist who currently serves as the chairman and CEO of the conglomerate holding company Berkshire Hathaway.', 'isCurrent': 'true', 'positionHeld': 'CEO'}), Relationship(source=Node(id='http://www.wikidata.org/entity/Q217583', type='Organization', properties={}), target=Node(id='http://www.wikidata.org/entity/Q47213', type='Person', properties={}), type='CHIEF_EXECUTIVE_OFFICER', properties={'evidence': 'Warren Edward Buffett ( BUF-it; born August 30, 1930) is an American investor and philanthropist who currently serves as the chairman and CEO of the conglomerate holding company Berkshire Hathaway.', 'isCurrent': 'true'}), Relationship(source=Node(id='http://www.wikidata.org/entity/Q217583', type='Organization', properties={}), target=Node(id='http://www.wikidata.org/entity/Q47213', type='Person', properties={}), type='FOUNDED_BY', properties={'evidence': 'Warren Edward Buffett ( BUF-it; born August 30, 1930) is an American investor and philanthropist who currently serves as the chairman and CEO of the conglomerate holding company Berkshire Hathaway.'}), Relationship(source=Node(id='Buffett Partnership Ltd.', type='Organization', properties={}), target=Node(id='http://www.wikidata.org/entity/Q1505660', type='Skill', properties={}), type='INDUSTRY', properties={'evidence': 'He created Buffett Partnership Ltd. in 1956 and his investment firm eventually acquired a textile manufacturing firm, Berkshire Hathaway, assuming its name to create a diversified holding company.'}), Relationship(source=Node(id='http://www.wikidata.org/entity/Q47213', type='Person', properties={}), target=Node(id='Leila', type='Person', properties={}), type='HAS_PARENT', properties={'evidence': 'Buffett was born on August 30, 1930, in Omaha, Nebraska, as the second of three children and the only son of Leila (née Stahl) and Congressman Howard Buffett.'}), Relationship(source=Node(id='http://www.wikidata.org/entity/Q47213', type='Person', properties={}), target=Node(id='Leila', type='Person', properties={}), type='FAMILY_MEMBER', properties={'evidence': 'Buffett was born on August 30, 1930, in Omaha, Nebraska, as the second of three children and the only son of Leila (née Stahl) and Congressman Howard Buffett.'}), Relationship(source=Node(id='http://www.wikidata.org/entity/Q47213', type='Person', properties={}), target=Node(id='Leila', type='Person', properties={}), type='SOCIAL_RELATIONSHIP', properties={'evidence': 'Buffett was born on August 30, 1930, in Omaha, Nebraska, as the second of three children and the only son of Leila (née Stahl) and Congressman Howard Buffett.'}), Relationship(source=Node(id='http://www.wikidata.org/entity/Q5284', type='Person', properties={}), target=Node(id='http://www.wikidata.org/entity/Q203807', type='Organization', properties={}), type='EMPLOYEE_OR_MEMBER_OF', properties={'evidence': 'He founded the Giving Pledge in 2010 with Bill Gates, whereby billionaires pledge to give away at least half of their fortunes.'})], source=Document(metadata={'title': 'Warren Buffett', 'summary': 'Warren Edward Buffett ( BUF-it; born August 30, 1930) is an American investor and philanthropist who currently serves as the chairman and CEO of the conglomerate holding company Berkshire Hathaway. As a result of his investment success, Buffett is one of the best-known investors in the world. According to Forbes, as of May 2025, Buffett\\'s estimated net worth stood at US$160.2 billion, making him the fifth-richest individual in the world.\\nBuffett was born in Omaha, Nebraska. The son of U.S. congressman and businessman Howard Buffett, he developed an interest in business and investing during his youth. He entered the Wharton School of the University of Pennsylvania in 1947 before graduating from the University of Nebraska in Lincoln at 20. He went on to graduate from Columbia Business School, where he molded his investment philosophy around the concept of value investing pioneered by Benjamin Graham. He attended New York Institute of Finance to focus on his economics background and soon pursued a business career.\\nHe later began various business ventures and investment partnerships, including one with Graham. He created Buffett Partnership Ltd. in 1956 and his investment firm eventually acquired a textile manufacturing firm, Berkshire Hathaway, assuming its name to create a diversified holding company. Buffett emerged as the company\\'s chairman and majority shareholder in 1970. In 1978, fellow investor and long-time business associate Charlie Munger joined Buffett as vice-chairman.\\nSince 1970, Buffett has presided as the chairman and largest shareholder of Berkshire Hathaway, one of America\\'s foremost holding companies and world\\'s leading corporate conglomerates. He has been referred to as the \"Oracle\" or \"Sage\" of Omaha by global media as a result of having accumulated a massive fortune derived from his business and investment success. He is noted for his adherence to the principles of value investing, and his frugality despite his wealth. Buffett has pledged to give away 99 percent of his fortune to philanthropic causes, primarily via the Gates Foundation. He founded the Giving Pledge in 2010 with Bill Gates, whereby billionaires pledge to give away at least half of their fortunes. At Berkshire Hathaway\\'s investor conference on May 3, 2025, Buffett requested that the board appoint Greg Abel to succeed him as the company\\'s chief executive officer by the year\\'s end, whilst remaining chairman.', 'source': 'https://en.wikipedia.org/wiki/Warren_Buffett'}, page_content='Warren Edward Buffett ( BUF-it; born August 30, 1930) is an American investor and philanthropist who currently serves as the chairman and CEO of the conglomerate holding company Berkshire Hathaway. As a result of his investment success, Buffett is one of the best-known investors in the world. According to Forbes, as of May 2025, Buffett\\'s estimated net worth stood at US$160.2 billion, making him the fifth-richest individual in the world.\\nBuffett was born in Omaha, Nebraska. The son of U.S. congressman and businessman Howard Buffett, he developed an interest in business and investing during his youth. He entered the Wharton School of the University of Pennsylvania in 1947 before graduating from the University of Nebraska in Lincoln at 20. He went on to graduate from Columbia Business School, where he molded his investment philosophy around the concept of value investing pioneered by Benjamin Graham. He attended New York Institute of Finance to focus on his economics background and soon pursued a business career.\\nHe later began various business ventures and investment partnerships, including one with Graham. He created Buffett Partnership Ltd. in 1956 and his investment firm eventually acquired a textile manufacturing firm, Berkshire Hathaway, assuming its name to create a diversified holding company. Buffett emerged as the company\\'s chairman and majority shareholder in 1970. In 1978, fellow investor and long-time business associate Charlie Munger joined Buffett as vice-chairman.\\nSince 1970, Buffett has presided as the chairman and largest shareholder of Berkshire Hathaway, one of America\\'s foremost holding companies and world\\'s leading corporate conglomerates. He has been referred to as the \"Oracle\" or \"Sage\" of Omaha by global media as a result of having accumulated a massive fortune derived from his business and investment success. He is noted for his adherence to the principles of value investing, and his frugality despite his wealth. Buffett has pledged to give away 99 percent of his fortune to philanthropic causes, primarily via the Gates Foundation. He founded the Giving Pledge in 2010 with Bill Gates, whereby billionaires pledge to give away at least half of their fortunes. At Berkshire Hathaway\\'s investor conference on May 3, 2025, Buffett requested that the board appoint Greg Abel to succeed him as the company\\'s chief executive officer by the year\\'s end, whilst remaining chairman.\\n\\n\\n== Early life and education ==\\nBuffett was born on August 30, 1930, in Omaha, Nebraska, as the second of three children and the only son of Leila (née Stahl) and Congressman Howard Buffett. He began his education at Rose Hill Elementary School. In 1942, his father was elected to the first of four terms in the United States Congress, and after moving with his family to Washington, D.C., Warren finished elementary school, attended Alice Deal Junior High School and graduated from what was then Woodrow Wilson High School in 1947, where his senior yearbook picture reads: \"likes math; a future stockbroker\". After finishing high school and finding success with his side entrepreneurial and investment ventures, Buffett wanted to skip college to go directly into business but was overruled by his father.\\nBuffett showcased an interest in business and investing at a young age. He was inspired by a book he borrowed from the Omaha public library at age seven, One Thousand Ways to Make $1000. Much of Buffett\\'s early childhood years were enlivened with entrepreneurial ventures. In one of his first business ventures, Buffett sold chewing gum, Coca-Cola, and weekly magazines door to door. He worked in his grandfather\\'s grocery store. While still in high school, he made money delivering newspapers, selling golf balls and stamps, and detailing cars, among other means. On his first income tax return in 1944, Buffett took a $35 deduction for the use of his bicycle and watch on his paper route. In 1945, as a high school sophomore, Buffett and a friend spent $25 to'))"
      ]
     },
     "execution_count": 4,
     "metadata": {},
     "output_type": "execute_result"
    }
   ],
   "execution_count": 4
  },
  {
   "metadata": {
    "ExecuteTime": {
     "end_time": "2025-07-04T20:36:27.781092Z",
     "start_time": "2025-07-04T20:36:25.693960Z"
    }
   },
   "cell_type": "code",
   "source": [
    "from langchain_neo4j import Neo4jGraph\n",
    "\n",
    "url = \"bolt://localhost:7687\"\n",
    "username = \"neo4j\"\n",
    "password = \"password\"\n",
    "\n",
    "graph = Neo4jGraph(url=url, username=username, password=password)"
   ],
   "id": "2732d0eeed3af343",
   "outputs": [],
   "execution_count": 5
  },
  {
   "metadata": {
    "ExecuteTime": {
     "end_time": "2025-07-04T20:36:31.235523Z",
     "start_time": "2025-07-04T20:36:27.797401Z"
    }
   },
   "cell_type": "code",
   "source": "graph.add_graph_documents(graph_documents)",
   "id": "181aa7e60a9d9d09",
   "outputs": [],
   "execution_count": 6
  },
  {
   "metadata": {
    "ExecuteTime": {
     "end_time": "2025-07-04T20:36:31.348487Z",
     "start_time": "2025-07-04T20:36:31.250443Z"
    }
   },
   "cell_type": "code",
   "source": "graph.refresh_schema()",
   "id": "c3521a8d0c96ed72",
   "outputs": [],
   "execution_count": 7
  },
  {
   "metadata": {},
   "cell_type": "markdown",
   "source": "# Query the graph",
   "id": "70c946b6d1864416"
  },
  {
   "metadata": {
    "ExecuteTime": {
     "end_time": "2025-07-04T20:56:37.633906Z",
     "start_time": "2025-07-04T20:56:37.411264Z"
    }
   },
   "cell_type": "code",
   "source": [
    "from langchain_neo4j import GraphCypherQAChain\n",
    "from langchain_aws import ChatBedrock\n",
    "from config import env\n",
    "\n",
    "chat_bedrock_model = ChatBedrock(\n",
    "    temperature=0,\n",
    "    model=\"us.anthropic.claude-3-5-sonnet-20240620-v1:0\",\n",
    "    region=env.AWS_REGION,\n",
    "    aws_access_key_id=env.AWS_ACCESS_KEY_ID,\n",
    "    aws_secret_access_key=env.AWS_SECRET_ACCESS_KEY,\n",
    ")\n",
    "\n",
    "chain = GraphCypherQAChain.from_llm(\n",
    "    cypher_llm=chat_bedrock_model,\n",
    "    qa_llm=chat_bedrock_model,\n",
    "    graph=graph,\n",
    "    verbose=True,\n",
    "    allow_dangerous_requests=True,\n",
    ")"
   ],
   "id": "66ffa7006b61cba7",
   "outputs": [],
   "execution_count": 16
  },
  {
   "metadata": {
    "ExecuteTime": {
     "end_time": "2025-07-04T20:56:41.619454Z",
     "start_time": "2025-07-04T20:56:38.470178Z"
    }
   },
   "cell_type": "code",
   "source": "chain.run(\"Which university did Warren Buffett attend?\")",
   "id": "c638c4fed7cbeeb6",
   "outputs": [
    {
     "name": "stdout",
     "output_type": "stream",
     "text": [
      "\n",
      "\n",
      "\u001B[1m> Entering new GraphCypherQAChain chain...\u001B[0m\n",
      "Generated Cypher:\n",
      "\u001B[32;1m\u001B[1;3mMATCH (p:Person {name: \"Warren Buffett\"})-[:EDUCATED_AT]->(o:Organization)\n",
      "WHERE o.name CONTAINS \"University\"\n",
      "RETURN o.name AS University\u001B[0m\n",
      "Full Context:\n",
      "\u001B[32;1m\u001B[1;3m[{'University': 'University of Pennsylvania'}, {'University': 'University of Nebraska-Lincoln'}]\u001B[0m\n",
      "\n",
      "\u001B[1m> Finished chain.\u001B[0m\n"
     ]
    },
    {
     "data": {
      "text/plain": [
       "'Warren Buffett attended the University of Nebraska-Lincoln and the University of Pennsylvania.'"
      ]
     },
     "execution_count": 17,
     "metadata": {},
     "output_type": "execute_result"
    }
   ],
   "execution_count": 17
  }
 ],
 "metadata": {
  "kernelspec": {
   "display_name": "Python 3",
   "language": "python",
   "name": "python3"
  },
  "language_info": {
   "codemirror_mode": {
    "name": "ipython",
    "version": 2
   },
   "file_extension": ".py",
   "mimetype": "text/x-python",
   "name": "python",
   "nbconvert_exporter": "python",
   "pygments_lexer": "ipython2",
   "version": "2.7.6"
  }
 },
 "nbformat": 4,
 "nbformat_minor": 5
}
