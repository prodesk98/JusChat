{
 "cells": [
  {
   "cell_type": "code",
   "id": "initial_id",
   "metadata": {
    "collapsed": true,
    "ExecuteTime": {
     "end_time": "2025-07-07T15:49:25.081135Z",
     "start_time": "2025-07-07T15:49:22.569357Z"
    }
   },
   "source": [
    "from config import env\n",
    "from langchain_neo4j import Neo4jGraph\n",
    "from langchain_aws import ChatBedrock"
   ],
   "outputs": [],
   "execution_count": 1
  },
  {
   "metadata": {
    "ExecuteTime": {
     "end_time": "2025-07-07T16:36:48.626781Z",
     "start_time": "2025-07-07T16:36:48.354130Z"
    }
   },
   "cell_type": "code",
   "source": [
    "url         = env.NEO4J_URL\n",
    "username    = env.NEO4J_USERNAME\n",
    "password    = env.NEO4J_PASSWORD\n",
    "\n",
    "graph = Neo4jGraph(url=url, username=username, password=password)"
   ],
   "id": "cb67b1edcb2e8c5a",
   "outputs": [],
   "execution_count": 6
  },
  {
   "metadata": {},
   "cell_type": "code",
   "outputs": [],
   "execution_count": null,
   "source": "",
   "id": "515b54f6fee93d3a"
  }
 ],
 "metadata": {
  "kernelspec": {
   "display_name": "Python 3",
   "language": "python",
   "name": "python3"
  },
  "language_info": {
   "codemirror_mode": {
    "name": "ipython",
    "version": 2
   },
   "file_extension": ".py",
   "mimetype": "text/x-python",
   "name": "python",
   "nbconvert_exporter": "python",
   "pygments_lexer": "ipython2",
   "version": "2.7.6"
  }
 },
 "nbformat": 4,
 "nbformat_minor": 5
}
