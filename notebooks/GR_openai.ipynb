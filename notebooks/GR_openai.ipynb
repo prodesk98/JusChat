{
 "cells": [
  {
   "metadata": {},
   "cell_type": "code",
   "source": [
    "from langchain_neo4j import Neo4jGraph\n",
    "from dotenv import load_dotenv\n",
    "load_dotenv()"
   ],
   "id": "168a93b90031d52a",
   "outputs": [],
   "execution_count": null
  },
  {
   "metadata": {
    "ExecuteTime": {
     "end_time": "2025-07-06T07:41:16.528977Z",
     "start_time": "2025-07-06T07:41:16.435844Z"
    }
   },
   "cell_type": "code",
   "source": [
    "url = \"bolt://localhost:7687\"\n",
    "username = \"neo4j\"\n",
    "password = \"password\"\n",
    "\n",
    "graph = Neo4jGraph(url=url, username=username, password=password)"
   ],
   "id": "2d7532d1481c0b20",
   "outputs": [],
   "execution_count": 6
  },
  {
   "metadata": {
    "ExecuteTime": {
     "end_time": "2025-07-06T07:42:44.125565Z",
     "start_time": "2025-07-06T07:42:42.345216Z"
    }
   },
   "cell_type": "code",
   "source": [
    "from langchain_experimental.graph_transformers import LLMGraphTransformer\n",
    "from langchain_openai import ChatOpenAI\n",
    "\n",
    "llm = ChatOpenAI(\n",
    "    temperature=0,\n",
    "    model=\"gpt-4o-mini\",\n",
    ")\n",
    "llm_transformer = LLMGraphTransformer(llm=llm)"
   ],
   "id": "8102e5bbba236d9f",
   "outputs": [],
   "execution_count": 7
  },
  {
   "metadata": {
    "ExecuteTime": {
     "end_time": "2025-07-06T07:43:21.972951Z",
     "start_time": "2025-07-06T07:43:03.297411Z"
    }
   },
   "cell_type": "code",
   "source": [
    "from langchain_community.document_loaders import WikipediaLoader\n",
    "\n",
    "query = \"Warren Buffett\"\n",
    "raw_documents = WikipediaLoader(query=query).load()"
   ],
   "id": "a9f949a1412073da",
   "outputs": [],
   "execution_count": 8
  },
  {
   "metadata": {
    "ExecuteTime": {
     "end_time": "2025-07-06T07:47:10.557981Z",
     "start_time": "2025-07-06T07:43:23.710688Z"
    }
   },
   "cell_type": "code",
   "source": [
    "graph_documents = llm_transformer.convert_to_graph_documents(raw_documents)\n",
    "print(f\"Nodes:{graph_documents[0].nodes}\")\n",
    "print(f\"Relationships:{graph_documents[0].relationships}\")"
   ],
   "id": "82089b6d49814dc",
   "outputs": [
    {
     "name": "stdout",
     "output_type": "stream",
     "text": [
      "Nodes:[Node(id='Warren Edward Buffett', type='Person', properties={}), Node(id='Berkshire Hathaway', type='Company', properties={}), Node(id='Howard Buffett', type='Person', properties={}), Node(id='Bill Gates', type='Person', properties={}), Node(id='Greg Abel', type='Person', properties={}), Node(id='Gates Foundation', type='Organization', properties={}), Node(id='One Thousand Ways To Make $1000', type='Book', properties={}), Node(id='Omaha', type='Location', properties={}), Node(id='Wharton School Of The University Of Pennsylvania', type='School', properties={}), Node(id='University Of Nebraska', type='School', properties={}), Node(id='Columbia Business School', type='School', properties={}), Node(id='New York Institute Of Finance', type='School', properties={}), Node(id='Rose Hill Elementary School', type='School', properties={}), Node(id='Alice Deal Junior High School', type='School', properties={}), Node(id='Woodrow Wilson High School', type='School', properties={})]\n",
      "Relationships:[Relationship(source=Node(id='Warren Edward Buffett', type='Person', properties={}), target=Node(id='Berkshire Hathaway', type='Company', properties={}), type='CHAIRMAN', properties={}), Relationship(source=Node(id='Warren Edward Buffett', type='Person', properties={}), target=Node(id='Berkshire Hathaway', type='Company', properties={}), type='CEO', properties={}), Relationship(source=Node(id='Warren Edward Buffett', type='Person', properties={}), target=Node(id='Howard Buffett', type='Person', properties={}), type='SON_OF', properties={}), Relationship(source=Node(id='Warren Edward Buffett', type='Person', properties={}), target=Node(id='Bill Gates', type='Person', properties={}), type='CO_FOUNDER', properties={}), Relationship(source=Node(id='Warren Edward Buffett', type='Person', properties={}), target=Node(id='Gates Foundation', type='Organization', properties={}), type='PLEDGED_TO_GIVE_AWAY_FORTUNE', properties={}), Relationship(source=Node(id='Warren Edward Buffett', type='Person', properties={}), target=Node(id='Greg Abel', type='Person', properties={}), type='SUCCESSOR', properties={}), Relationship(source=Node(id='Warren Edward Buffett', type='Person', properties={}), target=Node(id='One Thousand Ways To Make $1000', type='Book', properties={}), type='INSPIRED_BY', properties={}), Relationship(source=Node(id='Warren Edward Buffett', type='Person', properties={}), target=Node(id='Omaha', type='Location', properties={}), type='BORN_IN', properties={}), Relationship(source=Node(id='Warren Edward Buffett', type='Person', properties={}), target=Node(id='Wharton School Of The University Of Pennsylvania', type='School', properties={}), type='ATTENDED', properties={}), Relationship(source=Node(id='Warren Edward Buffett', type='Person', properties={}), target=Node(id='University Of Nebraska', type='School', properties={}), type='GRADUATED_FROM', properties={}), Relationship(source=Node(id='Warren Edward Buffett', type='Person', properties={}), target=Node(id='Columbia Business School', type='School', properties={}), type='GRADUATED_FROM', properties={}), Relationship(source=Node(id='Warren Edward Buffett', type='Person', properties={}), target=Node(id='New York Institute Of Finance', type='School', properties={}), type='ATTENDED', properties={}), Relationship(source=Node(id='Warren Edward Buffett', type='Person', properties={}), target=Node(id='Rose Hill Elementary School', type='School', properties={}), type='ATTENDED', properties={}), Relationship(source=Node(id='Warren Edward Buffett', type='Person', properties={}), target=Node(id='Alice Deal Junior High School', type='School', properties={}), type='ATTENDED', properties={}), Relationship(source=Node(id='Warren Edward Buffett', type='Person', properties={}), target=Node(id='Woodrow Wilson High School', type='School', properties={}), type='ATTENDED', properties={})]\n"
     ]
    }
   ],
   "execution_count": 9
  },
  {
   "metadata": {
    "ExecuteTime": {
     "end_time": "2025-07-06T07:47:50.378214Z",
     "start_time": "2025-07-06T07:47:42.829174Z"
    }
   },
   "cell_type": "code",
   "source": "graph.add_graph_documents(graph_documents, include_source=True)",
   "id": "26556d419912cab5",
   "outputs": [],
   "execution_count": 10
  },
  {
   "metadata": {},
   "cell_type": "markdown",
   "source": "# Query the graph",
   "id": "85f13c9f86adca46"
  },
  {
   "metadata": {
    "ExecuteTime": {
     "end_time": "2025-07-06T07:50:38.133541Z",
     "start_time": "2025-07-06T07:50:38.127512Z"
    }
   },
   "cell_type": "code",
   "source": [
    "from langchain_neo4j import GraphCypherQAChain\n",
    "\n",
    "# Create the Cypher and QA LLMs\n",
    "\n",
    "# Cypher LLM for generating Cypher queries\n",
    "cypher_llm_bedrock_model = ChatOpenAI(\n",
    "    temperature=0,\n",
    "    model=\"gpt-4o\",\n",
    ")\n",
    "\n",
    "# QA LLM for answering questions based on the Cypher query results\n",
    "qa_llm_bedrock_model = ChatOpenAI(\n",
    "    temperature=0,\n",
    "    model=\"gpt-4o-mini\",\n",
    ")\n",
    "\n",
    "chain = GraphCypherQAChain.from_llm(\n",
    "    cypher_llm=cypher_llm_bedrock_model,\n",
    "    qa_llm=qa_llm_bedrock_model,\n",
    "    graph=graph,\n",
    "    verbose=True,\n",
    "    allow_dangerous_requests=True,\n",
    ")"
   ],
   "id": "aa8ae9a11a933ebc",
   "outputs": [],
   "execution_count": 11
  },
  {
   "metadata": {
    "ExecuteTime": {
     "end_time": "2025-07-06T07:52:02.821863Z",
     "start_time": "2025-07-06T07:52:00.601836Z"
    }
   },
   "cell_type": "code",
   "source": "chain.invoke(\"Who is or was working at Berkshire Hathaway?\")",
   "id": "ce9f29ac5934bf4b",
   "outputs": [
    {
     "name": "stdout",
     "output_type": "stream",
     "text": [
      "\n",
      "\n",
      "\u001B[1m> Entering new GraphCypherQAChain chain...\u001B[0m\n"
     ]
    },
    {
     "name": "stderr",
     "output_type": "stream",
     "text": [
      "Received notification from DBMS server: {severity: WARNING} {code: Neo.ClientNotification.Statement.FeatureDeprecationWarning} {category: DEPRECATION} {title: This feature is deprecated and will be removed in future versions.} {description: The semantics of using colon in the separation of alternative relationship types will change in a future version. (Please use ':WORKS_AT|WORKED_AT' instead)} {position: line: 2, column: 21, offset: 27} for query: 'cypher\\nMATCH (p)-[:WORKS_AT|:WORKED_AT]->(c {name: \"Berkshire Hathaway\"})\\nRETURN p\\n'\n",
      "Received notification from DBMS server: {severity: WARNING} {code: Neo.ClientNotification.Statement.UnknownRelationshipTypeWarning} {category: UNRECOGNIZED} {title: The provided relationship type is not in the database.} {description: One of the relationship types in your query is not available in the database, make sure you didn't misspell it or that the label is available when you run this statement in your application (the missing relationship type is: WORKS_AT)} {position: line: 2, column: 13, offset: 19} for query: 'cypher\\nMATCH (p)-[:WORKS_AT|:WORKED_AT]->(c {name: \"Berkshire Hathaway\"})\\nRETURN p\\n'\n",
      "Received notification from DBMS server: {severity: WARNING} {code: Neo.ClientNotification.Statement.UnknownPropertyKeyWarning} {category: UNRECOGNIZED} {title: The provided property key is not in the database} {description: One of the property names in your query is not available in the database, make sure you didn't misspell it or that the label is available when you run this statement in your application (the missing property name is: name)} {position: line: 2, column: 39, offset: 45} for query: 'cypher\\nMATCH (p)-[:WORKS_AT|:WORKED_AT]->(c {name: \"Berkshire Hathaway\"})\\nRETURN p\\n'\n"
     ]
    },
    {
     "name": "stdout",
     "output_type": "stream",
     "text": [
      "Generated Cypher:\n",
      "\u001B[32;1m\u001B[1;3mcypher\n",
      "MATCH (p)-[:WORKS_AT|:WORKED_AT]->(c {name: \"Berkshire Hathaway\"})\n",
      "RETURN p\n",
      "\u001B[0m\n",
      "Full Context:\n",
      "\u001B[32;1m\u001B[1;3m[]\u001B[0m\n",
      "\n",
      "\u001B[1m> Finished chain.\u001B[0m\n"
     ]
    },
    {
     "data": {
      "text/plain": [
       "{'query': 'Who is or was working at Berkshire Hathaway?',\n",
       " 'result': \"I don't know the answer.\"}"
      ]
     },
     "execution_count": 14,
     "metadata": {},
     "output_type": "execute_result"
    }
   ],
   "execution_count": 14
  },
  {
   "metadata": {},
   "cell_type": "code",
   "outputs": [],
   "execution_count": null,
   "source": "",
   "id": "7ab33ad79cd20c56"
  }
 ],
 "metadata": {
  "kernelspec": {
   "display_name": "Python 3",
   "language": "python",
   "name": "python3"
  },
  "language_info": {
   "codemirror_mode": {
    "name": "ipython",
    "version": 2
   },
   "file_extension": ".py",
   "mimetype": "text/x-python",
   "name": "python",
   "nbconvert_exporter": "python",
   "pygments_lexer": "ipython2",
   "version": "2.7.6"
  }
 },
 "nbformat": 4,
 "nbformat_minor": 5
}
