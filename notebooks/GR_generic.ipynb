{
 "cells": [
  {
   "cell_type": "code",
   "id": "initial_id",
   "metadata": {
    "collapsed": true,
    "ExecuteTime": {
     "end_time": "2025-07-06T04:06:59.503550Z",
     "start_time": "2025-07-06T04:06:57.415375Z"
    }
   },
   "source": [
    "from config import env\n",
    "from langchain_neo4j import Neo4jGraph"
   ],
   "outputs": [],
   "execution_count": 2
  },
  {
   "metadata": {
    "ExecuteTime": {
     "end_time": "2025-07-06T07:01:20.175891Z",
     "start_time": "2025-07-06T07:01:19.816881Z"
    }
   },
   "cell_type": "code",
   "source": [
    "url = \"bolt://localhost:7687\"\n",
    "username = \"neo4j\"\n",
    "password = \"password\"\n",
    "\n",
    "graph = Neo4jGraph(url=url, username=username, password=password)"
   ],
   "id": "ed3b0a9aa99cde18",
   "outputs": [],
   "execution_count": 49
  },
  {
   "metadata": {
    "ExecuteTime": {
     "end_time": "2025-07-06T07:10:00.667820Z",
     "start_time": "2025-07-06T07:10:00.446389Z"
    }
   },
   "cell_type": "code",
   "source": [
    "from langchain_experimental.graph_transformers import LLMGraphTransformer\n",
    "from langchain_aws import ChatBedrock\n",
    "\n",
    "llm = ChatBedrock(\n",
    "    temperature=0,\n",
    "    model=\"us.anthropic.claude-3-5-sonnet-20240620-v1:0\",\n",
    "    region=env.AWS_REGION,\n",
    "    aws_access_key_id=env.AWS_ACCESS_KEY_ID,\n",
    "    aws_secret_access_key=env.AWS_SECRET_ACCESS_KEY,\n",
    ")\n",
    "llm_transformer = LLMGraphTransformer(llm=llm)"
   ],
   "id": "36f21cc5fbfa65d9",
   "outputs": [],
   "execution_count": 55
  },
  {
   "metadata": {
    "ExecuteTime": {
     "end_time": "2025-07-06T07:01:44.458566Z",
     "start_time": "2025-07-06T07:01:22.958307Z"
    }
   },
   "cell_type": "code",
   "source": [
    "from langchain_community.document_loaders import WikipediaLoader\n",
    "\n",
    "query = \"Warren Buffett\"\n",
    "raw_documents = WikipediaLoader(query=query).load()"
   ],
   "id": "9e753273e9a649e6",
   "outputs": [],
   "execution_count": 51
  },
  {
   "metadata": {},
   "cell_type": "code",
   "source": [
    "graph_documents = llm_transformer.convert_to_graph_documents(raw_documents)\n",
    "print(f\"Nodes:{graph_documents[0].nodes}\")\n",
    "print(f\"Relationships:{graph_documents[0].relationships}\")"
   ],
   "id": "e83e27bc28538e44",
   "outputs": [],
   "execution_count": null
  },
  {
   "metadata": {},
   "cell_type": "code",
   "source": "graph.add_graph_documents(graph_documents, include_source=True)",
   "id": "91363fd3777f33e",
   "outputs": [],
   "execution_count": null
  },
  {
   "metadata": {},
   "cell_type": "markdown",
   "source": "# Query the graph",
   "id": "63a534e107632bce"
  },
  {
   "metadata": {
    "ExecuteTime": {
     "end_time": "2025-07-06T07:00:53.984948Z",
     "start_time": "2025-07-06T07:00:53.759353Z"
    }
   },
   "cell_type": "code",
   "source": [
    "from langchain_neo4j import GraphCypherQAChain\n",
    "from langchain_aws import ChatBedrock\n",
    "\n",
    "chat_bedrock_model = ChatBedrock(\n",
    "    temperature=0,\n",
    "    model=\"us.anthropic.claude-3-5-sonnet-20240620-v1:0\",\n",
    "    region=env.AWS_REGION,\n",
    "    aws_access_key_id=env.AWS_ACCESS_KEY_ID,\n",
    "    aws_secret_access_key=env.AWS_SECRET_ACCESS_KEY,\n",
    ")\n",
    "\n",
    "chain = GraphCypherQAChain.from_llm(\n",
    "    cypher_llm=chat_bedrock_model,\n",
    "    qa_llm=chat_bedrock_model,\n",
    "    graph=graph,\n",
    "    verbose=True,\n",
    "    allow_dangerous_requests=True,\n",
    ")"
   ],
   "id": "f3b969fca6e31d1",
   "outputs": [],
   "execution_count": 47
  },
  {
   "metadata": {
    "ExecuteTime": {
     "end_time": "2025-07-06T07:00:58.595437Z",
     "start_time": "2025-07-06T07:00:54.518379Z"
    }
   },
   "cell_type": "code",
   "source": "chain.invoke(\"Which university did Warren Buffett attend?\")",
   "id": "687c535d5e7ecb57",
   "outputs": [
    {
     "name": "stdout",
     "output_type": "stream",
     "text": [
      "\n",
      "\n",
      "\u001B[1m> Entering new GraphCypherQAChain chain...\u001B[0m\n"
     ]
    },
    {
     "name": "stderr",
     "output_type": "stream",
     "text": [
      "Received notification from DBMS server: {severity: WARNING} {code: Neo.ClientNotification.Statement.UnknownPropertyKeyWarning} {category: UNRECOGNIZED} {title: The provided property key is not in the database} {description: One of the property names in your query is not available in the database, make sure you didn't misspell it or that the label is available when you run this statement in your application (the missing property name is: name)} {position: line: 1, column: 18, offset: 17} for query: 'MATCH (p:Person {name: \"Warren Buffett\"})-[:EDUCATED_AT]->(o:Organization)\\nWHERE o.name CONTAINS \"University\"\\nRETURN o.name'\n",
      "Received notification from DBMS server: {severity: WARNING} {code: Neo.ClientNotification.Statement.UnknownPropertyKeyWarning} {category: UNRECOGNIZED} {title: The provided property key is not in the database} {description: One of the property names in your query is not available in the database, make sure you didn't misspell it or that the label is available when you run this statement in your application (the missing property name is: name)} {position: line: 2, column: 9, offset: 83} for query: 'MATCH (p:Person {name: \"Warren Buffett\"})-[:EDUCATED_AT]->(o:Organization)\\nWHERE o.name CONTAINS \"University\"\\nRETURN o.name'\n",
      "Received notification from DBMS server: {severity: WARNING} {code: Neo.ClientNotification.Statement.UnknownPropertyKeyWarning} {category: UNRECOGNIZED} {title: The provided property key is not in the database} {description: One of the property names in your query is not available in the database, make sure you didn't misspell it or that the label is available when you run this statement in your application (the missing property name is: name)} {position: line: 3, column: 10, offset: 119} for query: 'MATCH (p:Person {name: \"Warren Buffett\"})-[:EDUCATED_AT]->(o:Organization)\\nWHERE o.name CONTAINS \"University\"\\nRETURN o.name'\n"
     ]
    },
    {
     "name": "stdout",
     "output_type": "stream",
     "text": [
      "Generated Cypher:\n",
      "\u001B[32;1m\u001B[1;3mMATCH (p:Person {name: \"Warren Buffett\"})-[:EDUCATED_AT]->(o:Organization)\n",
      "WHERE o.name CONTAINS \"University\"\n",
      "RETURN o.name\u001B[0m\n",
      "Full Context:\n",
      "\u001B[32;1m\u001B[1;3m[]\u001B[0m\n",
      "\n",
      "\u001B[1m> Finished chain.\u001B[0m\n"
     ]
    },
    {
     "data": {
      "text/plain": [
       "{'query': 'Which university did Warren Buffett attend?',\n",
       " 'result': \"I apologize, but I don't have any specific information about which university Warren Buffett attended. Without reliable data on this topic, I can't provide an accurate answer to your question.\"}"
      ]
     },
     "execution_count": 48,
     "metadata": {},
     "output_type": "execute_result"
    }
   ],
   "execution_count": 48
  },
  {
   "metadata": {},
   "cell_type": "code",
   "outputs": [],
   "execution_count": null,
   "source": "",
   "id": "e573cadc2614ba26"
  }
 ],
 "metadata": {
  "kernelspec": {
   "display_name": "Python 3",
   "language": "python",
   "name": "python3"
  },
  "language_info": {
   "codemirror_mode": {
    "name": "ipython",
    "version": 2
   },
   "file_extension": ".py",
   "mimetype": "text/x-python",
   "name": "python",
   "nbconvert_exporter": "python",
   "pygments_lexer": "ipython2",
   "version": "2.7.6"
  }
 },
 "nbformat": 4,
 "nbformat_minor": 5
}
